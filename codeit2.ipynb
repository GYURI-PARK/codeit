{
  "nbformat": 4,
  "nbformat_minor": 0,
  "metadata": {
    "colab": {
      "name": "codeit2.ipynb",
      "provenance": [],
      "authorship_tag": "ABX9TyPNipsRbJsw8BdHB7gxDJie",
      "include_colab_link": true
    },
    "kernelspec": {
      "name": "python3",
      "display_name": "Python 3"
    },
    "language_info": {
      "name": "python"
    }
  },
  "cells": [
    {
      "cell_type": "markdown",
      "metadata": {
        "id": "view-in-github",
        "colab_type": "text"
      },
      "source": [
        "<a href=\"https://colab.research.google.com/github/GYURI-PARK/codeit/blob/main/codeit2.ipynb\" target=\"_parent\"><img src=\"https://colab.research.google.com/assets/colab-badge.svg\" alt=\"Open In Colab\"/></a>"
      ]
    },
    {
      "cell_type": "markdown",
      "source": [
        "# **숫자 야구 게임**\n",
        "\n",
        "**규칙**\n",
        "\n",
        "컴퓨터는 0과 9 사이의 서로 다른 숫자 3개를 무작위로 뽑습니다. 예를 들어서 컴퓨터가 5, 2, 3을 뽑을 수도 있고 6, 7, 4를 뽑을 수도 있는 거죠.\n",
        "\n",
        "\n",
        "사용자는 컴퓨터가 뽑은 숫자의 값과 위치를 맞추어야 합니다.\n",
        "\n",
        "\n",
        "컴퓨터는 사용자가 입력한 숫자 3개에 대해서, 아래의 규칙대로 스트라이크(S)와 볼(B)의 개수를 알려줍니다.\n",
        "\n",
        "\n",
        "숫자의 값과 위치가 모두 일치하면 S입니다.\n",
        "숫자의 값은 일치하지만 위치가 틀렸으면 B입니다.\n",
        "\n",
        "\n",
        "예를 들어 컴퓨터가 1, 2, 3을 뽑았다고 가정합시다. 사용자가 1, 3, 5를 입력하면, 1S(1의 값과 위치가 일치) 1B(3의 값만 일치)입니다.\n",
        "\n",
        "\n",
        "기회는 무제한입니다. 하지만 몇 번의 시도 끝에 맞췄는지 기록됩니다.\n",
        "3S(숫자 3개의 값과 위치를 모두 맞춘 경우)가 나오면 게임이 끝납니다."
      ],
      "metadata": {
        "id": "Yw4J56gCxw--"
      }
    },
    {
      "cell_type": "markdown",
      "source": [
        "진행 방식\n",
        "1. \"0과 9 사이의 서로 다른 숫자 3개를 랜덤한 순서로 뽑았습니다.\"가 출력됩니다.\n",
        "2. \"숫자 3개를 하나씩 차례대로 입력하세요.\"가 출력됩니다.\n",
        "3. \"1번째 숫자를 입력하세요: \"가 출력되고, 사용자로부터 입력을 받습니다. 4. 마찬가지로 \"2번째 숫자를 입력하세요: \"와 \"3번째 숫자를 입력하세요: \"가 출력되고, 사용자로부터 각각 입력을 받습니다. 만약 사용자가 중복되는 숫자를 입력하거나 범위에서 벗어나는 숫자를 입력하면, 사용자로부터 입력을 다시 받습니다.\n",
        "5. 사용자가 올바르게 숫자 3개를 입력하면, 규칙에 따라 \"*S *B\"가 출력됩니다.\n",
        "3S가 아닌 경우, 2번부터 다시 진행합니다.\n",
        "6. 사용자가 3S를 달성하면, \"축하합니다. *번 만에 숫자 3개의 값과 위치를 모두 맞추셨습니다.\"가 출력됩니다. 그리고 게임은 종료됩니다."
      ],
      "metadata": {
        "id": "UABEBucWyCW5"
      }
    },
    {
      "cell_type": "markdown",
      "source": [
        "# **generate_numbers**\n",
        "무작위로 0과 9 사이의 서로 다른 숫자 3개를 뽑고, 그 숫자들이 담긴 리스트를 리턴\n"
      ],
      "metadata": {
        "id": "W1FbCPatyRVn"
      }
    },
    {
      "cell_type": "code",
      "source": [
        "# 내가 쓴 코드 \n",
        "\n",
        "from random import randint\n",
        "def generate_numbers():\n",
        "    numbers = []\n",
        "    res = []\n",
        "    while(True):\n",
        "      numbers.append(randint(0,9))\n",
        "      for v in numbers:\n",
        "        if v not in res:\n",
        "          res.append(v)\n",
        "      if len(res) == 3:\n",
        "        break;   \n",
        "    print(\"0과 9 사이의 서로 다른 숫자 3개를 랜덤한 순서로 뽑았습니다.\\n\")\n",
        "    return res\n",
        "\n",
        "generate_numbers()"
      ],
      "metadata": {
        "colab": {
          "base_uri": "https://localhost:8080/"
        },
        "id": "v2oFv8U5yJep",
        "outputId": "e31259e5-feb8-4574-f432-0f8b49a2c170"
      },
      "execution_count": 71,
      "outputs": [
        {
          "output_type": "stream",
          "name": "stdout",
          "text": [
            "0과 9 사이의 서로 다른 숫자 3개를 랜덤한 순서로 뽑았습니다.\n",
            "\n"
          ]
        },
        {
          "output_type": "execute_result",
          "data": {
            "text/plain": [
              "[2, 7, 4]"
            ]
          },
          "metadata": {},
          "execution_count": 71
        }
      ]
    },
    {
      "cell_type": "code",
      "source": [
        "# 모범답안\n",
        "\n",
        "from random import randint\n",
        "\n",
        "def generate_numbers():\n",
        "    numbers = []\n",
        "\n",
        "    while len(numbers) < 3:\n",
        "        num = randint(0, 9)\n",
        "        if num not in numbers:\n",
        "            numbers.append(num)\n",
        "\n",
        "    print(\"0과 9 사이의 서로 다른 숫자 3개를 랜덤한 순서로 뽑았습니다.\\n\")\n",
        "    return numbers\n",
        "\n",
        "generate_numbers()"
      ],
      "metadata": {
        "colab": {
          "base_uri": "https://localhost:8080/"
        },
        "id": "simOPTTNygvW",
        "outputId": "53474513-ccb7-4aed-d173-8796e6640857"
      },
      "execution_count": 27,
      "outputs": [
        {
          "output_type": "stream",
          "name": "stdout",
          "text": [
            "0과 9 사이의 서로 다른 숫자 3개를 랜덤한 순서로 뽑았습니다.\n",
            "\n"
          ]
        },
        {
          "output_type": "execute_result",
          "data": {
            "text/plain": [
              "[8, 7, 2]"
            ]
          },
          "metadata": {},
          "execution_count": 27
        }
      ]
    },
    {
      "cell_type": "markdown",
      "source": [
        "# **take_guess**\n",
        "\n",
        "유저에게 숫자 3개를 반복적으로 입력받은 후, 유저가 입력한 숫자들을 리스트에 정리해서 리턴\n",
        "\n",
        "ex)\n",
        "\n",
        "숫자 3개를 하나씩 차례대로 입력하세요.\n",
        "\n",
        "1번째 숫자를 입력하세요: 5\n",
        "\n",
        "2번째 숫자를 입력하세요: 11\n",
        "\n",
        "범위를 벗어나는 숫자입니다. 다시 입력하세요.\n",
        "\n",
        "2번째 숫자를 입력하세요: 7\n",
        "\n",
        "3번째 숫자를 입력하세요: 5\n",
        "\n",
        "중복되는 숫자입니다. 다시 입력하세요.\n",
        "\n",
        "3번째 숫자를 입력하세요: 3\n",
        "[5, 7, 3]\n"
      ],
      "metadata": {
        "id": "Cihq8vhw2yX4"
      }
    },
    {
      "cell_type": "code",
      "source": [
        "def take_guess():\n",
        "    print(\"숫자 3개를 하나씩 차례대로 입력하세요.\")\n",
        "    new_guess = []\n",
        "    count = 1\n",
        "    while len(new_guess) < 3:\n",
        "      num = int(input(print(f\"{count}번째 숫자를 입력하세요: \",end = '')))\n",
        "      if (num > 9 or num < 0):\n",
        "        print(\"범위를 벗어나는 숫자입니다. 다시 입력하세요.\")\n",
        "     \n",
        "      else:\n",
        "        if num not in new_guess:\n",
        "          new_guess.append(num)\n",
        "          count += 1\n",
        "        else:\n",
        "          print(\"중복되는 숫자입니다. 다시 입력하세요.\")\n",
        "\n",
        "    return new_guess"
      ],
      "metadata": {
        "id": "qw-QUBjH3hnU"
      },
      "execution_count": 69,
      "outputs": []
    },
    {
      "cell_type": "code",
      "source": [
        "take_guess()"
      ],
      "metadata": {
        "colab": {
          "base_uri": "https://localhost:8080/"
        },
        "id": "qmdYG_Gw4Hag",
        "outputId": "328ce872-6013-4a0e-858f-4c386d050d9d"
      },
      "execution_count": 70,
      "outputs": [
        {
          "name": "stdout",
          "output_type": "stream",
          "text": [
            "숫자 3개를 하나씩 차례대로 입력하세요.\n",
            "1번째 숫자를 입력하세요: 3\n",
            "2번째 숫자를 입력하세요: 4\n",
            "3번째 숫자를 입력하세요: 4\n",
            "중복되는 숫자입니다. 다시 입력하세요.\n",
            "3번째 숫자를 입력하세요: 10\n",
            "범위를 벗어나는 숫자입니다. 다시 입력하세요.\n",
            "3번째 숫자를 입력하세요: 2\n"
          ]
        },
        {
          "output_type": "execute_result",
          "data": {
            "text/plain": [
              "[3, 4, 2]"
            ]
          },
          "metadata": {},
          "execution_count": 70
        }
      ]
    },
    {
      "cell_type": "code",
      "source": [
        "# 모범답안\n",
        "from random import randint\n",
        "def take_guess():\n",
        "    print(\"숫자 3개를 하나씩 차례대로 입력하세요.\")\n",
        "    new_guess = []\n",
        "    while len(new_guess) < 3:\n",
        "        new_num = int(input(\"{}번째 숫자를 입력하세요: \".format(len(new_guess) + 1)))\n",
        "\n",
        "        if new_num < 0 or new_num > 9:\n",
        "            print(\"범위를 벗어나는 숫자입니다. 다시 입력하세요.\")\n",
        "        elif new_num in new_guess:\n",
        "            print(\"중복되는 숫자입니다. 다시 입력하세요.\")\n",
        "        else:\n",
        "            new_guess.append(new_num)\n",
        "    return new_guess\n",
        "\n",
        "take_guess()"
      ],
      "metadata": {
        "colab": {
          "base_uri": "https://localhost:8080/"
        },
        "id": "32QSWt3s6kKS",
        "outputId": "b3c0863a-e085-4804-a6ac-daa86b68524c"
      },
      "execution_count": 59,
      "outputs": [
        {
          "name": "stdout",
          "output_type": "stream",
          "text": [
            "숫자 3개를 하나씩 차례대로 입력하세요.\n",
            "1번째 숫자를 입력하세요: 12\n",
            "범위를 벗어나는 숫자입니다. 다시 입력하세요.\n",
            "1번째 숫자를 입력하세요: 1\n",
            "2번째 숫자를 입력하세요: 2\n",
            "3번째 숫자를 입력하세요: 3\n"
          ]
        },
        {
          "output_type": "execute_result",
          "data": {
            "text/plain": [
              "[1, 2, 3]"
            ]
          },
          "metadata": {},
          "execution_count": 59
        }
      ]
    },
    {
      "cell_type": "markdown",
      "source": [
        "# **get_score**\n",
        "이 함수는 두 개의 파라미터 사용\n",
        "\n",
        "1. guesses → 유저가 뽑은 번호 3개가 담긴 리스트\n",
        "2. solution → 컴퓨터가 뽑은 정답 번호 3개가 담긴 리스트"
      ],
      "metadata": {
        "id": "6XEAnw6t8oSl"
      }
    },
    {
      "cell_type": "code",
      "source": [
        "def get_score(guesses, solution):\n",
        "    strike_count = 0\n",
        "    ball_count = 0\n",
        "\n",
        "    for i in range(len(guesses)):\n",
        "      for j in range(len(solution)):\n",
        "        if(guesses[i] == solution[j] and i == j):\n",
        "          strike_count += 1\n",
        "        elif(guesses[i] == solution[j] and i != j):\n",
        "          ball_count += 1\n",
        "\n",
        "    return strike_count, ball_count"
      ],
      "metadata": {
        "id": "NloK253F87i4"
      },
      "execution_count": 75,
      "outputs": []
    },
    {
      "cell_type": "code",
      "source": [
        "# 테스트\n",
        "s_1, b_1 = get_score([2, 7, 4], [2, 4, 7])\n",
        "print(s_1, b_1)\n",
        "\n",
        "s_2, b_2 = get_score([7, 2, 4], [2, 4, 7])\n",
        "print(s_2, b_2)\n",
        "\n",
        "s_3, b_3 = get_score([0, 4, 7], [2, 4, 7])\n",
        "print(s_3, b_3)\n",
        "\n",
        "s_4, b_4 = get_score([2, 4, 7], [2, 4, 7])\n",
        "print(s_4, b_4)\n"
      ],
      "metadata": {
        "colab": {
          "base_uri": "https://localhost:8080/"
        },
        "id": "Vuc6SjiD-oFW",
        "outputId": "5b493766-70be-4681-fae5-4208421f7eae"
      },
      "execution_count": 76,
      "outputs": [
        {
          "output_type": "stream",
          "name": "stdout",
          "text": [
            "1 2\n",
            "0 3\n",
            "2 0\n",
            "3 0\n"
          ]
        }
      ]
    },
    {
      "cell_type": "code",
      "source": [
        "from random import randint\n",
        "\n",
        "\n",
        "def generate_numbers():\n",
        "    numbers = []\n",
        "    res = []\n",
        "    while(True):\n",
        "      numbers.append(randint(0,9))\n",
        "      for v in numbers:\n",
        "        if v not in res:\n",
        "          res.append(v)\n",
        "      if len(res) == 3:\n",
        "        break;   \n",
        "    print(\"0과 9 사이의 서로 다른 숫자 3개를 랜덤한 순서로 뽑았습니다.\\n\")\n",
        "    return res\n",
        "\n",
        "\n",
        "def take_guess():\n",
        "    print(\"숫자 3개를 하나씩 차례대로 입력하세요.\")\n",
        "    new_guess = []\n",
        "    count = 1\n",
        "    while len(new_guess) < 3:\n",
        "      num = int(input(print(f\"{count}번째 숫자를 입력하세요: \",end = '')))\n",
        "      if (num > 9 or num < 0):\n",
        "        print(\"범위를 벗어나는 숫자입니다. 다시 입력하세요.\")\n",
        "     \n",
        "      else:\n",
        "        if num not in new_guess:\n",
        "          new_guess.append(num)\n",
        "          count += 1\n",
        "        else:\n",
        "          print(\"중복되는 숫자입니다. 다시 입력하세요.\")\n",
        "\n",
        "    return new_guess\n",
        "\n",
        "\n",
        "def get_score(guesses, solution):\n",
        "    strike_count = 0\n",
        "    ball_count = 0\n",
        "\n",
        "    for i in range(len(guesses)):\n",
        "      for j in range(len(solution)):\n",
        "        if(guesses[i] == solution[j] and i == j):\n",
        "          strike_count += 1\n",
        "        elif(guesses[i] == solution[j] and i != j):\n",
        "          ball_count += 1\n",
        "\n",
        "    return strike_count, ball_count\n",
        "\n",
        "# 여기서부터 게임 시작!\n",
        "ANSWER = generate_numbers()\n",
        "# 컴퓨터가 뽑은 답\n",
        "tries = 0\n",
        "\n",
        "while(True) :\n",
        "  guesses = take_guess()\n",
        "  S,B = get_score(guesses, ANSWER)\n",
        "  print(S,\"S\",\" \",B,\"B\")\n",
        "  tries += 1\n",
        "  if(S == 3):\n",
        "    break;\n",
        "\n",
        "print(\"축하합니다. {}번 만에 숫자 3개의 값과 위치를 모두 맞추셨습니다.\".format(tries))\n",
        "\n"
      ],
      "metadata": {
        "id": "LXQqtfHE-3Ta"
      },
      "execution_count": 77,
      "outputs": []
    },
    {
      "cell_type": "code",
      "source": [
        "# 여기서부터 게임 시작!\n",
        "ANSWER = generate_numbers()\n",
        "# 컴퓨터가 뽑은 답\n",
        "tries = 0\n",
        "\n",
        "while(True) :\n",
        "  guesses = take_guess()\n",
        "  S,B = get_score(guesses, ANSWER)\n",
        "  print(S,\"S\",\" \",B,\"B\")\n",
        "  tries += 1\n",
        "  if(S == 3):\n",
        "    break;\n",
        "\n",
        "print(\"축하합니다. {}번 만에 숫자 3개의 값과 위치를 모두 맞추셨습니다.\".format(tries))"
      ],
      "metadata": {
        "colab": {
          "base_uri": "https://localhost:8080/"
        },
        "id": "AsZ0PXBOBMID",
        "outputId": "6ff4a33f-a71d-4321-d063-34062afec954"
      },
      "execution_count": 86,
      "outputs": [
        {
          "output_type": "stream",
          "name": "stdout",
          "text": [
            "0과 9 사이의 서로 다른 숫자 3개를 랜덤한 순서로 뽑았습니다.\n",
            "\n",
            "숫자 3개를 하나씩 차례대로 입력하세요.\n",
            "1번째 숫자를 입력하세요: 4\n",
            "2번째 숫자를 입력하세요: 7\n",
            "3번째 숫자를 입력하세요: 9\n",
            "0 S   1 B\n",
            "숫자 3개를 하나씩 차례대로 입력하세요.\n",
            "1번째 숫자를 입력하세요: 4\n",
            "2번째 숫자를 입력하세요: 2\n",
            "3번째 숫자를 입력하세요: 8\n",
            "0 S   0 B\n",
            "숫자 3개를 하나씩 차례대로 입력하세요.\n",
            "1번째 숫자를 입력하세요: 7\n",
            "2번째 숫자를 입력하세요: 1\n",
            "3번째 숫자를 입력하세요: 6\n",
            "0 S   1 B\n",
            "숫자 3개를 하나씩 차례대로 입력하세요.\n",
            "1번째 숫자를 입력하세요: 3\n",
            "2번째 숫자를 입력하세요: 5\n",
            "3번째 숫자를 입력하세요: 7\n",
            "0 S   0 B\n",
            "숫자 3개를 하나씩 차례대로 입력하세요.\n",
            "1번째 숫자를 입력하세요: 9\n",
            "2번째 숫자를 입력하세요: 6\n",
            "3번째 숫자를 입력하세요: 2\n",
            "1 S   0 B\n",
            "숫자 3개를 하나씩 차례대로 입력하세요.\n",
            "1번째 숫자를 입력하세요: 9\n",
            "2번째 숫자를 입력하세요: 0\n",
            "3번째 숫자를 입력하세요: 1\n",
            "3 S   0 B\n",
            "축하합니다. 6번 만에 숫자 3개의 값과 위치를 모두 맞추셨습니다.\n"
          ]
        }
      ]
    },
    {
      "cell_type": "markdown",
      "source": [
        "# **모듈 사용해보기**\n"
      ],
      "metadata": {
        "id": "MMTMWcWCIe6n"
      }
    },
    {
      "cell_type": "code",
      "source": [
        "# 이미지를 파일에서 읽어오는 함수\n",
        "def read_image(filepath):\n",
        "    img = []\n",
        "    with open(filepath, 'r') as f:\n",
        "        data = f.readlines()\n",
        "\n",
        "    for row in data:\n",
        "        row = row[:-1]\n",
        "        img.append([int(bit) for bit in row])\n",
        "    return img\n",
        "\n",
        "\n",
        "# 이미지를 파일에 저장해 주는 함수\n",
        "def save_image(img, filepath):\n",
        "    with open(filepath, 'w') as f:\n",
        "        for row in img:\n",
        "            line = ''\n",
        "            for bit in row:\n",
        "                line += str(bit)\n",
        "            line += '\\n'\n",
        "            f.write(line)\n",
        "\n",
        "\n",
        "# 이미지를 디스플레이해 주는 함수\n",
        "def display(img):\n",
        "    height, width = len(img), len(img[0])\n",
        "    for i in range(height):\n",
        "        for j in range(width):\n",
        "            print(img[i][j], end=' ')\n",
        "        print()\n",
        "\n",
        "\n",
        "# 이미지 색상 반전\n",
        "def invert(img):\n",
        "    # img 이미지 크기\n",
        "    height, width = len(img), len(img[0])\n",
        "    new_img = empty_image(height, width)\n",
        "    for i in range(height):\n",
        "        for j in range(width):\n",
        "            new_img[i][j] = invert_bit(img[i][j])\n",
        "    return new_img\n",
        "\n",
        "\n",
        "# -1로 채워진 새로운 이미지 생성\n",
        "def empty_image(height, width):\n",
        "    new_img = []\n",
        "    for i in range(height):\n",
        "        new_img.append([-1] * width)\n",
        "    return new_img\n",
        "\n",
        "\n",
        "# 비트 반전\n",
        "def invert_bit(bit):\n",
        "    return 1 - bit"
      ],
      "metadata": {
        "id": "ksFED7XoBNaE"
      },
      "execution_count": 79,
      "outputs": []
    },
    {
      "cell_type": "markdown",
      "source": [
        "# **유용한 스탠다드 모듈들**\n",
        "\n",
        "***math***\n",
        "\n",
        "math는 기본적인 수학 모듈입니다. 여러 수학적인 함수를 제공해 줍니다.\n",
        "\n",
        "***random***\n",
        "\n",
        "random 모듈은 랜덤 한 숫자를 생성하기 위한 다양한 함수들을 제공해 줍니다.\n",
        "\n",
        "***datetime***\n",
        "\n",
        "datetime 모듈은 날짜와 시간을 다루기 위한 다양한 '클래스'를 갖추고 있습니다. 클래스의 개념을 잘 모르셔도 이 모듈을 사용하는 데에는 문제없습니다.\n",
        "\n",
        "***os***\n",
        "\n",
        "OS는 Operating System, 즉 운영체제의 약자입니다. os 모듈을 통해서 파이썬으로 운영체제를 조작하거나 운영체제에 대한 정보를 가져올 수 있습니다.\n",
        "\n",
        "***os.path***\n",
        "\n",
        "os.path 모듈은 파일 경로를 다룰 때 쓰입니다.\n",
        "\n",
        "***re***\n",
        "\n",
        "프로그래밍에서 Regular Expression (RegEx, re, 한국어로는 정규 표현식)은 특정한 규칙/패턴을 가진 문자열을 표현하는 데 사용됩니다.\n",
        "\n",
        "***pickle***\n",
        "\n",
        "pickle 을 사용하면 파이썬 오브젝트(객체)를 바이트(byte) 형식으로 바꿔서 파일에 저장할 수 있고 저장된 오브젝트를 읽어올 수도 있습니다.\n",
        "\n",
        "***json***\n",
        "\n",
        "\n",
        "json 모듈은 pickle과 비슷하지만 오브젝트를 JSON 형식으로 바꿔줍니다. JSON 형식에 맞는 데이터 (기본 데이터 타입들, 리스트, 딕셔너리)만 바꿀 수 있습니다.\n",
        "\n",
        "***copy***\n",
        "\n",
        "copy 모듈은 파이썬 오브젝트를 복사할 때 쓰입니다.\n",
        "\n",
        "***sqlite3***\n",
        "\n",
        "sqlite3 모듈을 통해 파이썬에서 SQLite 데이터베이스를 사용할 수 있습니다."
      ],
      "metadata": {
        "id": "1b5Jm-1pPbNS"
      }
    },
    {
      "cell_type": "markdown",
      "source": [
        "# name 특수 변수"
      ],
      "metadata": {
        "id": "Uzg7I49-2vGs"
      }
    },
    {
      "cell_type": "code",
      "source": [
        "print(__name__)"
      ],
      "metadata": {
        "colab": {
          "base_uri": "https://localhost:8080/"
        },
        "id": "QfXZLKps1SmX",
        "outputId": "eda2c007-51e8-414f-92fa-b13085ab7ec8"
      },
      "execution_count": 4,
      "outputs": [
        {
          "output_type": "stream",
          "name": "stdout",
          "text": [
            "__main__\n"
          ]
        }
      ]
    },
    {
      "cell_type": "markdown",
      "source": [
        "# **name 이란?**\n",
        "\n",
        "__name__은 모듈의 이름을 저장해 놓은 변수입니다.\n",
        "\n",
        "__name__의 값은 파이썬이 알아서 정해 주는데요.\n",
        "\n",
        "**파일을 직접 실행하면 __name__은 __main__으로 설정됩니다**\n",
        "\n",
        "\n",
        "파일을 임포트하면 __name__은 모듈 이름으로 설정됩니다.\n",
        "\n",
        "예를 들어 area 파일에서 __name__을 아래처럼 출력해 보면: area.py"
      ],
      "metadata": {
        "id": "It3eAbSE2zsn"
      }
    },
    {
      "cell_type": "markdown",
      "source": [
        "# **if __name__ == '__main__'**\n",
        "\n",
        "__name__을 사용하면 파일이 직접 실행되냐 아니면 임포트되냐에 따라서 코드의 흐름을 제어할 수 있습니다.\n",
        "\n",
        "\n",
        "파일이 직접 실행될 때만 실행하고 싶은 코드는 if __name__ == '__main__'이라는 조건문 안에 넣어주면 됩니다."
      ],
      "metadata": {
        "id": "IiUGZeTc3C7n"
      }
    },
    {
      "cell_type": "code",
      "source": [
        "# 프로그램이 더 복잡해지면 main 함수 안에서 다른 함수들을 호출하겠죠?\n",
        "# 파이썬에서도 이 프로그래밍 패턴을 사용할 수 있습니다.\n",
        "# 파일에서 어떤 프로그램을 작동시키는 부분을 그냥 main이라는 함수 안에 넣어 주는 거죠. \n",
        "# 예를 들어 우리의 area 파일과 run 파일에 main 함수를 추가해 주면 아래와 같이 바뀝니다.\n",
        "\n",
        "PI = 3.14\n",
        "\n",
        "# 원의 면적을 구해 주는 함수\n",
        "def circle(radius):\n",
        "      return PI * radius * radius  \n",
        "\n",
        "# 정사각형의 면적을 구해 주는 함수\n",
        "def square(length):\n",
        "      return length * length\n",
        "\n",
        "# 함수들을 테스팅 하는 메인 함수\n",
        "def main():\n",
        "      # circle 함수 테스트\n",
        "      print(circle(2) == 12.56)\n",
        "      print(circle(5) == 78.5)\n",
        "\n",
        "      # square 함수 테스트\n",
        "      print(square(2) == 4)\n",
        "      print(square(5) == 25)\n",
        "\n",
        "if __name__ == '__main__':\n",
        "    main()"
      ],
      "metadata": {
        "colab": {
          "base_uri": "https://localhost:8080/"
        },
        "id": "p5mC_sPf2rU1",
        "outputId": "41f6a1e9-37dd-4ee3-e683-1f98f253d6aa"
      },
      "execution_count": 7,
      "outputs": [
        {
          "output_type": "stream",
          "name": "stdout",
          "text": [
            "True\n",
            "True\n",
            "True\n",
            "True\n"
          ]
        }
      ]
    },
    {
      "cell_type": "markdown",
      "source": [
        "# **__init__ 파일이란?**\n",
        "패키지 안에는 __init__.py라는 파일이 있습니다. __init__.py 파일 (지금부터는 그냥 init 파일이라고 하겠습니다) 은 '이 폴더는 파이썬 패키지다'라고 말해 주는 파일입니다.\n",
        "\n",
        "\\\n",
        "\n",
        "파이썬 3.3 이전 버전에서는 init 파일이 필수였습니다. 디렉토리 안에 init 파일이 없으면 디렉토리가 패키지로 인식되지 않아서 패키지를 임포트할 수 없었습니다.\n",
        "\n",
        "\\\n",
        "\n",
        "\n",
        "파이썬 3.3 이후 버전부터는 init 파일이 필수가 아니게 됐지만 파이썬 하위 버전과의 호환성과 패키지의 명확성을 위해 항상 패키지 안에 init 파일을 만들어 주는 것을 권장 드립니다.\n",
        "\n",
        "\\\n",
        "init은 'initialize'라는 단어를 줄인 건데요. initialize는 초기화를 뜻합니다. 우리가 처음으로 패키지나 패키지 안에 있는 어떤 것을 임포트하면 가장 먼저 패키지의 init 파일에 있는 코드가 실행됩니다."
      ],
      "metadata": {
        "id": "NE0-DGTSBysY"
      }
    },
    {
      "cell_type": "markdown",
      "source": [
        "# **__all__ 특수 변수**\n",
        "__all__ 특수 변수는 우리가 import *를 했을 때 임포트 대상에서 어떤 것들을 가져와야 하는지를 정해 주는 변수\n",
        "\n",
        "\\\n",
        "\n",
        " 임포트 대상에서 내용 전체를 가져오라고 했을 때 '전체'가 무엇인지 정의해 주는 거죠. __all__ 은 모듈에도 적용되고 패키지에도 적용됩니다."
      ],
      "metadata": {
        "id": "SR8ANGTaKsOc"
      }
    },
    {
      "cell_type": "code",
      "source": [
        "# __all__ 과 모듈\n",
        "# 모듈의 __all__ 은 모듈에 해당하는 파일에서 정의합니다. \n",
        "# 예를 들어 area.py에 아래와 같은 코드를 추가해 주면:\n",
        "\n",
        "# __all__ 정의\n",
        "__all__ = ['circle', 'square'] \n",
        "\n",
        "PI = 3.14\n",
        "\n",
        "# 원의 면적을 구해 주는 함수\n",
        "def circle(radius):\n",
        "    return PI * radius * radius  \n",
        "\n",
        "# 정사각형의 면적을 구해 주는 함수\n",
        "def square(length):\n",
        "    return length * length\n",
        "\n",
        "# from shapes.area import *를 했을 때 area 모듈의 모든 내용이 임포트되지 않고 circle 과 square 함수만 임포트"
      ],
      "metadata": {
        "id": "XOslC-UTB985"
      },
      "execution_count": 8,
      "outputs": []
    },
    {
      "cell_type": "markdown",
      "source": [
        "# **import**\n",
        "\n",
        "모듈을 임포트할 때 from <module> import *를 하면 모듈의 모든 내용이 임포트됩니다.\n",
        "\n",
        "\\\n",
        "\n",
        "하지만 모듈 대신 패키지에 from <package> import *를 하면 패키지 안에 있는 게 아무것도 임포트되지 않습니다."
      ],
      "metadata": {
        "id": "iRbTze2bOSvQ"
      }
    },
    {
      "cell_type": "code",
      "source": [
        "# __all__ 과 패키지\n",
        "# 패키지의 __all__ 은 패키지에 해당하는 init 파일에서 정의합니다.\n",
        "# 예를 들어 shapes 패키지의 init 파일에 아래와 같은 코드를 추가해 주면:\n",
        "\n",
        "# __all__ 정의\n",
        "__all__ = ['area', 'volume']\n",
        "\n",
        "# 이제 from shapes import *를 하면 area 모듈과 volume 모듈이 임포트\n",
        "\n",
        "# __all__을 사용하면 패키지나 모듈에 import *를 했을 때 어떤 것들이 임포트되는지를 제어할 수 있습니다. \n",
        "# 그래도 여전히 import * 만 봐서는 정확히 어떤 것들이 임포트되는지를 알 수 없기 때문에 import *는 프로그램에서 정의되는 이름들, 즉 네임스페이스를 완벽히 이해하고 있을 때만 사용하는 것을 추천"
      ],
      "metadata": {
        "id": "C8MAAW2FK65d"
      },
      "execution_count": null,
      "outputs": []
    },
    {
      "cell_type": "markdown",
      "source": [
        "1)\n",
        "\n",
        "processing모듈에 import *를 하면 invert 함수와 merge 함수만 임포트되도록 __all__변수를 정의\n",
        "\n",
        "utils 모듈에서는 어차피 모든 함수들을 가져올 거기 때문에 따로 __all__을 정의해 주지 않아도 됩니다."
      ],
      "metadata": {
        "id": "8a2mhgLgMN7m"
      }
    },
    {
      "cell_type": "code",
      "source": [
        "__all__ = ['invert', 'merge']\n",
        "\n",
        "# processing 모듈 위에 정의"
      ],
      "metadata": {
        "id": "LdnQcJDIMhMM"
      },
      "execution_count": 9,
      "outputs": []
    },
    {
      "cell_type": "markdown",
      "source": [
        "2)\n",
        "\n",
        "cil 패키지의 init 파일에서 import *를 사용해서 utils 모듈의 모든 함수들과 processing 모듈의 invert, merge함수들을 임포트해 주세요 (processing 모듈의 다른 함수들은 임포트되면 안됩니다)."
      ],
      "metadata": {
        "id": "H02msrUWNbP3"
      }
    },
    {
      "cell_type": "code",
      "source": [
        "from cil.processing import *\n",
        "from cil.utils import *\n",
        "\n",
        "# cil 패키지의 init 파일에 정의"
      ],
      "metadata": {
        "id": "rfozG4DDNaMp"
      },
      "execution_count": null,
      "outputs": []
    },
    {
      "cell_type": "markdown",
      "source": [
        "# **import 총정리**\n",
        "\n"
      ],
      "metadata": {
        "id": "1YNoTopSUz64"
      }
    },
    {
      "cell_type": "markdown",
      "source": [
        "## 1) import ... 방식"
      ],
      "metadata": {
        "id": "tAV99OzJVDGZ"
      }
    },
    {
      "cell_type": "code",
      "source": [
        "# 패키지 임포트\n",
        "import mymath\n",
        "\n",
        "# 서브패키지 임포트\n",
        "import mymath.shapes\n",
        "\n",
        "# 모듈 임포트\n",
        "import mymath.shapes.area\n",
        "\n",
        "# 모듈 안에 있는 변수나 함수는 이 방식으로 임포트 할 수 없음 \n",
        "import mymath.shapes.area.circle # 오류"
      ],
      "metadata": {
        "id": "-E6w6UmrU8iv"
      },
      "execution_count": null,
      "outputs": []
    },
    {
      "cell_type": "markdown",
      "source": [
        "# 2) from ... import ... 방식"
      ],
      "metadata": {
        "id": "ZCz_eTaHVIY_"
      }
    },
    {
      "cell_type": "code",
      "source": [
        "# 패키지 안에 있는 패키지 임포트\n",
        "from mymath import shapes\n",
        "\n",
        "# 패키지 안에 있는 모듈 임포트\n",
        "from mymath.shapes import area\n",
        "\n",
        "# 모듈 안에 있는 함수 임포트\n",
        "from mymath.shapes.area import circle\n",
        "\n",
        "# import 뒤에는 . 을 쓸 수 없음 \n",
        "from mymath import shapes.area # 오류"
      ],
      "metadata": {
        "id": "_t5P6HKVVOeY"
      },
      "execution_count": null,
      "outputs": []
    }
  ]
}