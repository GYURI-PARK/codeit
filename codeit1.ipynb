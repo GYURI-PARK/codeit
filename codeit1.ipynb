{
  "nbformat": 4,
  "nbformat_minor": 0,
  "metadata": {
    "colab": {
      "name": "codeit1.ipynb",
      "provenance": [],
      "authorship_tag": "ABX9TyOMwyUFEDCZbgNsPW32T1HQ",
      "include_colab_link": true
    },
    "kernelspec": {
      "name": "python3",
      "display_name": "Python 3"
    },
    "language_info": {
      "name": "python"
    }
  },
  "cells": [
    {
      "cell_type": "markdown",
      "metadata": {
        "id": "view-in-github",
        "colab_type": "text"
      },
      "source": [
        "<a href=\"https://colab.research.google.com/github/GYURI-PARK/codeit/blob/main/codeit1.ipynb\" target=\"_parent\"><img src=\"https://colab.research.google.com/assets/colab-badge.svg\" alt=\"Open In Colab\"/></a>"
      ]
    },
    {
      "cell_type": "markdown",
      "source": [
        "# **<randint 함수>**\n",
        "randint는 두 수 사이의 어떤 랜덤한 정수를 리턴하는 함수 \n",
        "\n",
        "randint(a, b)를 하면, a ≤ N ≤ b를 만족하는 어떤 랜덤한 정수 N을 리턴 "
      ],
      "metadata": {
        "id": "UUgGM_XpnxpI"
      }
    },
    {
      "cell_type": "code",
      "source": [
        "import random\n",
        "\n",
        "print(random.randint(1, 20))\n",
        "print(random.randint(1, 20))\n",
        "print(random.randint(1, 20))\n",
        "print(random.randint(1, 20))\n",
        "print(random.randint(1, 20))"
      ],
      "metadata": {
        "colab": {
          "base_uri": "https://localhost:8080/"
        },
        "id": "PbmBfPZSn5lY",
        "outputId": "7631b9ac-4c33-45ac-b1b1-249fc2b0ac5f"
      },
      "execution_count": 1,
      "outputs": [
        {
          "output_type": "stream",
          "name": "stdout",
          "text": [
            "5\n",
            "14\n",
            "16\n",
            "5\n",
            "18\n"
          ]
        }
      ]
    },
    {
      "cell_type": "markdown",
      "source": [
        "# **<uniform 함수>**\n",
        "uniform은 두 수 사이의 랜덤한 소수를 리턴하는 함수\n",
        "randint와 다른 것은 리턴하는 값이 정수가 아니라 소수라는 점\n",
        "\n",
        "uniform(a, b)를 하면, a ≤ N ≤ b를 만족하는 어떤 랜덤한 소수 N을 리턴"
      ],
      "metadata": {
        "id": "rQmLMAncoXSy"
      }
    },
    {
      "cell_type": "code",
      "source": [
        "print(random.uniform(0, 1))\n",
        "print(random.uniform(0, 1))\n",
        "print(random.uniform(0, 1))\n",
        "print(random.uniform(0, 1))\n",
        "print(random.uniform(0, 1))"
      ],
      "metadata": {
        "colab": {
          "base_uri": "https://localhost:8080/"
        },
        "id": "C0lu3_30osc4",
        "outputId": "30a1007e-be7c-49b2-dbbf-046cb4656441"
      },
      "execution_count": 2,
      "outputs": [
        {
          "output_type": "stream",
          "name": "stdout",
          "text": [
            "0.10450085755681893\n",
            "0.6843228032356599\n",
            "0.9135880495705297\n",
            "0.02402510414791792\n",
            "0.10519489316866726\n"
          ]
        }
      ]
    },
    {
      "cell_type": "markdown",
      "source": [
        "# **<datetime 모듈>**"
      ],
      "metadata": {
        "id": "MWti__THpFxL"
      }
    },
    {
      "cell_type": "code",
      "source": [
        "import datetime\n",
        "\n",
        "today = datetime.datetime(2022, 7, 11)\n",
        "print(today)  # 2022-07-11 00:00:00        \n",
        "print(type(today))  # <class 'datetime.datetime'>\n",
        "\n",
        "# 날짜 + 시간 입력\n",
        "print(datetime.datetime(2022, 7, 11, 2,12,40))"
      ],
      "metadata": {
        "colab": {
          "base_uri": "https://localhost:8080/"
        },
        "id": "rkiQYKcVpTNq",
        "outputId": "9b1f3e81-810a-48e7-fd53-8a80b570b04f"
      },
      "execution_count": 4,
      "outputs": [
        {
          "output_type": "stream",
          "name": "stdout",
          "text": [
            "2022-07-11 00:00:00\n",
            "<class 'datetime.datetime'>\n",
            "2022-07-11 02:12:40\n"
          ]
        }
      ]
    },
    {
      "cell_type": "code",
      "source": [
        " # '지금 이 순간'의 날짜와 시간을 받아 오고 싶다면? \n",
        "\n",
        "today = datetime.datetime.now()\n",
        "print(today)"
      ],
      "metadata": {
        "colab": {
          "base_uri": "https://localhost:8080/"
        },
        "id": "aYgn4bYdpby5",
        "outputId": "ea216acc-caeb-456f-a17d-afe2110a9ef2"
      },
      "execution_count": 5,
      "outputs": [
        {
          "output_type": "stream",
          "name": "stdout",
          "text": [
            "2022-07-11 05:14:39.097430\n",
            "<class 'datetime.datetime'>\n"
          ]
        }
      ]
    },
    {
      "cell_type": "code",
      "source": [
        "# timedelta\n",
        "# 두 datetime 값 사이의 기간을 알고 싶으면, 마치 숫자 뺄셈을 하듯이 그냥 빼면 됨\n",
        "\n",
        "today = datetime.datetime.now()\n",
        "pi_day = datetime.datetime(2020, 3, 14, 13, 6, 15)\n",
        "print(today - pi_day)   # 848 days, 16:09:07.071902\n",
        "print(type(today - pi_day)) # <class 'datetime.timedelta'>"
      ],
      "metadata": {
        "colab": {
          "base_uri": "https://localhost:8080/"
        },
        "id": "XIU7-nALrlfT",
        "outputId": "8b7a68e3-853b-4196-e22a-1576630158c6"
      },
      "execution_count": 6,
      "outputs": [
        {
          "output_type": "stream",
          "name": "stdout",
          "text": [
            "848 days, 16:09:07.071902\n",
            "<class 'datetime.timedelta'>\n"
          ]
        }
      ]
    },
    {
      "cell_type": "code",
      "source": [
        "# timedelta를 생성해서 datetime 값에 더해 주기\n",
        "\n",
        "time_delta = datetime.timedelta(days = 5, hours = 3, minutes=18)\n",
        "today = datetime.datetime.now()\n",
        "print(today + time_delta)"
      ],
      "metadata": {
        "colab": {
          "base_uri": "https://localhost:8080/"
        },
        "id": "UM_PUVaerv-n",
        "outputId": "ccf78b2e-4bcf-4c05-f280-e805b7c7342c"
      },
      "execution_count": 7,
      "outputs": [
        {
          "output_type": "stream",
          "name": "stdout",
          "text": [
            "2022-07-16 08:37:01.216727\n"
          ]
        }
      ]
    },
    {
      "cell_type": "code",
      "source": [
        "# datetime 해부하기\n",
        "\n",
        "today = datetime.datetime.now()\n",
        "\n",
        "print(today)\n",
        "print(today.year)  # 연도\n",
        "print(today.month)  # 월\n",
        "print(today.day)  # 일\n",
        "print(today.hour)  # 시\n",
        "print(today.minute)  # 분\n",
        "print(today.second)  # 초\n",
        "print(today.microsecond)  # 마이크로초"
      ],
      "metadata": {
        "colab": {
          "base_uri": "https://localhost:8080/"
        },
        "id": "0A7qfkFwsliv",
        "outputId": "24247dff-d104-44af-97fd-73e9cad909a3"
      },
      "execution_count": 8,
      "outputs": [
        {
          "output_type": "stream",
          "name": "stdout",
          "text": [
            "2022-07-11 05:19:42.351115\n",
            "2022\n",
            "7\n",
            "11\n",
            "5\n",
            "19\n",
            "42\n",
            "351115\n"
          ]
        }
      ]
    },
    {
      "cell_type": "code",
      "source": [
        "# datetime 포맷팅\n",
        "# .strftime 사용하기\n",
        "\n",
        "today = datetime.datetime.now()\n",
        "\n",
        "print(today)\n",
        "print(today.strftime(\"%A, %B %dth %Y\"))\n",
        "# Monday, July 11th 2022\n",
        "print(today.strftime(\"%a, %b %w %y\"))"
      ],
      "metadata": {
        "colab": {
          "base_uri": "https://localhost:8080/"
        },
        "id": "EE9nwowXsvhp",
        "outputId": "a0245b44-01bf-4eef-a80d-ce2be867658a"
      },
      "execution_count": 10,
      "outputs": [
        {
          "output_type": "stream",
          "name": "stdout",
          "text": [
            "2022-07-11 05:24:00.151189\n",
            "Monday, July 11th 2022\n",
            "Mon, Jul 1 22\n"
          ]
        }
      ]
    },
    {
      "cell_type": "markdown",
      "source": [
        "![image.png](data:image/png;base64,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)"
      ],
      "metadata": {
        "id": "ob7hLvcjtTkj"
      }
    },
    {
      "cell_type": "markdown",
      "source": [
        "# **숫자 맞히기 게임**\n",
        "\n",
        "진행 방식\n",
        "\n",
        "1. 프로그램을 실행하면 \"기회가 *번 남았습니다. 1-20 사이의 숫자를 맞혀 보세요: \"가 출력됩니다. 총 네 번의 기회가 주어지며, 사용자가 한 번 추측할 때마다 남은 기회 횟수가 줄어듭니다.\n",
        "\n",
        "\n",
        "2. 정답을 맞히면 \"축하합니다. *번 만에 숫자를 맞히셨습니다.\"가 출력되고 프로그램은 종료됩니다.\n",
        "\n",
        "\n",
        "3. 사용자가 입력한 수가 정답보다 작은 경우 \"Up\"이 출력되고, 입력한 수가 정답보다 큰 경우 \"Down\"이 출력됩니다.\n",
        "\n",
        "\n",
        "4. 정답이 틀렸으면 1번부터 다시 진행합니다. 만약 네 번의 기회를 모두 사용했는데도 답을 맞히지 못했으면, \"아쉽습니다. 정답은 *입니다.\"가 출력되고 프로그램은 종료됩니다."
      ],
      "metadata": {
        "id": "zRR7bMvFvKyj"
      }
    },
    {
      "cell_type": "code",
      "source": [
        "import random\n",
        "chance = 4\n",
        "ans = random.randint(1,20)\n",
        "n = int(input(print(f\"기회가 {chance}번 남았습니다. 1-20 사이의 숫자를 맞혀 보세요: \", end = \"\"))) \n",
        "\n",
        "while(chance > 1):\n",
        "  if n == ans:\n",
        "    print(f\"축하합니다. {5-chance}번 만에 숫자를 맞히셨습니다.\")\n",
        "    break;\n",
        "  elif n < ans:\n",
        "    print(\"Up\")\n",
        "    chance -= 1\n",
        "    n = int(input(print(f\"기회가 {chance}번 남았습니다. 1-20 사이의 숫자를 맞혀 보세요: \", end = \"\"))) \n",
        "  elif n > ans:\n",
        "    print(\"Down\")\n",
        "    chance -= 1\n",
        "    n = int(input(print(f\"기회가 {chance}번 남았습니다. 1-20 사이의 숫자를 맞혀 보세요: \", end = \"\"))) \n",
        "\n",
        "if (chance == 1 and ans != n):\n",
        "  print(f\"아쉽습니다. 정답은 {ans}입니다.\")\n"
      ],
      "metadata": {
        "colab": {
          "base_uri": "https://localhost:8080/"
        },
        "id": "APu83xqBvXSe",
        "outputId": "add03203-5ac1-4e52-bea3-3564dcd29a98"
      },
      "execution_count": 41,
      "outputs": [
        {
          "output_type": "stream",
          "name": "stdout",
          "text": [
            "기회가 4번 남았습니다. 1-20 사이의 숫자를 맞혀 보세요: 10\n",
            "Down\n",
            "기회가 3번 남았습니다. 1-20 사이의 숫자를 맞혀 보세요: 5\n",
            "Up\n",
            "기회가 2번 남았습니다. 1-20 사이의 숫자를 맞혀 보세요: 6\n",
            "Up\n",
            "기회가 1번 남았습니다. 1-20 사이의 숫자를 맞혀 보세요: 7\n",
            "아쉽습니다. 정답은 8입니다.\n"
          ]
        }
      ]
    },
    {
      "cell_type": "code",
      "source": [
        "import random\n",
        "answer = random.randint(1, 20)\n",
        "chance = [4, 3, 2, 1, 0]\n",
        "for i in chance:\n",
        "    if i > 0:\n",
        "        user_ans = input(f\"기회가 {i}번 남았습니다. 1-20 사이의 숫자를 맞혀 보세요: \")\n",
        "        if int(user_ans) == answer:\n",
        "            print(f\"축하합니다. {len(chance) - i}번 만에 숫자를 맞히셨습니다.\")\n",
        "            break\n",
        "        elif int(user_ans) < answer:\n",
        "            print(\"Up\")\n",
        "        else:\n",
        "            print(\"Down\")\n",
        "    else:\n",
        "        print(f\"아쉽습니다. 정답은 {answer}입니다.\")\n",
        "        break\n"
      ],
      "metadata": {
        "colab": {
          "base_uri": "https://localhost:8080/"
        },
        "id": "rtEgO8T5vw_8",
        "outputId": "42d43042-1daa-4bcb-aa43-822acb8563e8"
      },
      "execution_count": 33,
      "outputs": [
        {
          "output_type": "stream",
          "name": "stdout",
          "text": [
            "기회가 4번 남았습니다. 1-20 사이의 숫자를 맞혀 보세요: 10\n",
            "Down\n",
            "기회가 3번 남았습니다. 1-20 사이의 숫자를 맞혀 보세요: 5\n",
            "축하합니다. 2번 만에 숫자를 맞히셨습니다.\n"
          ]
        }
      ]
    },
    {
      "cell_type": "markdown",
      "source": [
        "# 코딩에 빠진 닭\n",
        "\n",
        ":의 왼쪽에는 해달 월의 며칠인지, 그리고 오른쪽에는 그 날의 매출이 적혀 있습니다.\n",
        "\n",
        "data 폴더의 chicken.txt 파일을 읽어 들이고, strip과 split을 써서 12월 코빠닭의 하루 평균 매출을 출력하세요. 평균을 구하기 위해서는 총 매출을 총 일수로 나누면 됩니다.\n",
        "\n",
        "참고로 현재 제공된 파일에는 31일이 있지만, 어떤 달은 31일이 아닐 수도 있습니다. 이 점을 고려해서 확장성 있는 코드를 작성해 주시길 바랍니다."
      ],
      "metadata": {
        "id": "UHA7y7vU2qaW"
      }
    },
    {
      "cell_type": "code",
      "source": [
        "with open('data/chicken.txt', 'r') as pr:\n",
        "    total = 0\n",
        "    days = 0\n",
        "    for list in pr:\n",
        "        listed = list.strip().split(\": \")\n",
        "        total += int(listed[1])\n",
        "        days += 1\n",
        "    print(total / days)"
      ],
      "metadata": {
        "id": "T9vvDuk_2uBP"
      },
      "execution_count": null,
      "outputs": []
    },
    {
      "cell_type": "markdown",
      "source": [
        "# **strip() 함수**\n",
        "\n",
        "문자열 앞뒤의 화이트 스페이스 삭제"
      ],
      "metadata": {
        "id": "j8_j_D8P3P06"
      }
    },
    {
      "cell_type": "code",
      "source": [
        "\"   abc   def   \".strip()"
      ],
      "metadata": {
        "colab": {
          "base_uri": "https://localhost:8080/",
          "height": 35
        },
        "id": "Xn5Wpudn3ld8",
        "outputId": "eff20734-ebd4-4830-a734-b8e0d7bd7c50"
      },
      "execution_count": 42,
      "outputs": [
        {
          "output_type": "execute_result",
          "data": {
            "text/plain": [
              "'abc   def'"
            ],
            "application/vnd.google.colaboratory.intrinsic+json": {
              "type": "string"
            }
          },
          "metadata": {},
          "execution_count": 42
        }
      ]
    },
    {
      "cell_type": "code",
      "source": [
        "\"   \\t    \\n   abc  def  \\n\\n\\n\".strip()"
      ],
      "metadata": {
        "colab": {
          "base_uri": "https://localhost:8080/",
          "height": 35
        },
        "id": "SgyUzWX83oiJ",
        "outputId": "e143d84d-a325-448b-e3e9-954a7dbccaf7"
      },
      "execution_count": 44,
      "outputs": [
        {
          "output_type": "execute_result",
          "data": {
            "text/plain": [
              "'abc  def'"
            ],
            "application/vnd.google.colaboratory.intrinsic+json": {
              "type": "string"
            }
          },
          "metadata": {},
          "execution_count": 44
        }
      ]
    },
    {
      "cell_type": "code",
      "source": [
        "print(\"   \\t    \\n   abc  def  \\n\\n\\n\")"
      ],
      "metadata": {
        "colab": {
          "base_uri": "https://localhost:8080/"
        },
        "id": "h8c2ySrj3zHS",
        "outputId": "19d660cf-1a23-4ac8-a22b-bd09d757a2b5"
      },
      "execution_count": 45,
      "outputs": [
        {
          "output_type": "stream",
          "name": "stdout",
          "text": [
            "   \t    \n",
            "   abc  def  \n",
            "\n",
            "\n",
            "\n"
          ]
        }
      ]
    },
    {
      "cell_type": "markdown",
      "source": [
        "# **단어장 만들기**\n",
        "\n",
        "영어 강사 Coy는 학생들의 단어 암기를 위해 단어장 프로그램을 만들려고 합니다.\n",
        "\n",
        "이 프로그램은 콘솔로 영어 단어와 한국어 뜻을 받고, vocabulary.txt라는 새로운 텍스트 파일에 단어와 뜻을 정리하는데요. 사용자가 새로운 단어와 뜻을 입력할 때마다 vocabulary.txt에 작성되는 것입니다.\n",
        "\n",
        "사용자는 반복적으로 단어와 뜻을 입력하는데, 단어나 뜻으로 q를 입력하는 순간 프로그램은 즉시 종료됩니다. 사용자가 q를 입력하고 나면 파일은 더 이상 바뀌지 않아야 합니다."
      ],
      "metadata": {
        "id": "M9gbi-R85bs3"
      }
    },
    {
      "cell_type": "code",
      "source": [
        "with open('vocabulary.txt', 'a') as voca:  # 'a' = append 덮어쓰기 안됨 , 'w' => 덮어쓰게 되어서 마지막 문장만 남게됨\n",
        "    i = 0\n",
        "    while True:\n",
        "        e_word = input(\"영어 단어를 입력하세요:\")\n",
        "        if e_word != \"q\":\n",
        "            k_meaning = input(\"한국어 뜻을 입력하세요:\")\n",
        "            if k_meaning != \"q\":\n",
        "                voca.write(f\"\\n{e_word}: {k_meaning}\")\n",
        "            else:\n",
        "                break\n",
        "        else:\n",
        "            break"
      ],
      "metadata": {
        "colab": {
          "base_uri": "https://localhost:8080/"
        },
        "id": "nEw1ERdf32Mw",
        "outputId": "60b25986-b766-4e6b-9982-e594560ffe84"
      },
      "execution_count": 53,
      "outputs": [
        {
          "name": "stdout",
          "output_type": "stream",
          "text": [
            "영어 단어를 입력하세요:apple\n",
            "한국어 뜻을 입력하세요:사과\n",
            "영어 단어를 입력하세요:banana\n",
            "한국어 뜻을 입력하세요:바나나\n",
            "영어 단어를 입력하세요:grape\n",
            "한국어 뜻을 입력하세요:포도\n",
            "영어 단어를 입력하세요:peach\n",
            "한국어 뜻을 입력하세요:복숭아\n",
            "영어 단어를 입력하세요:q\n"
          ]
        }
      ]
    },
    {
      "cell_type": "markdown",
      "source": [
        "앞선 실습 과제에서 vocabulary.txt라는 파일을 만들었죠? 이 파일에는 우리가 암기하고 싶은 단어들이 정리되어 있는데요. 이번에는 이 파일의 단어들을 가지고 학생들에게 문제를 내 주는 프로그램을 만들려고 합니다.\n",
        "\n",
        "프로그램은 콘솔에 한국어 뜻을 알려 줄 것이고, 사용자는 그에 맞는 영어 단어를 입력해야 합니다. 사용자가 입력한 영어 단어가 정답이면 \"맞았습니다!\"라고 출력하고, 틀리면 \"아쉽습니다. 정답은 OOO입니다.\"가 출력되어야 합니다.\n",
        "\n",
        "문제를 내는 순서는 vocabulary.txt에 정리된 순서입니다."
      ],
      "metadata": {
        "id": "Y7zi1K4R6Vp8"
      }
    },
    {
      "cell_type": "code",
      "source": [
        "with open('vocabulary.txt','r') as voca:\n",
        "  for a in voca:\n",
        "    voca_list = a.strip().split(\": \")\n",
        "    ans = input(f\"{voca_list[0]}: \")\n",
        "    if ans == voca_list[1] :\n",
        "      print(\"맞았습니다!\")\n",
        "    else:\n",
        "      print(f\"틀렸습니다. 정답은 {voca_list[1]} 입니다\")\n"
      ],
      "metadata": {
        "colab": {
          "base_uri": "https://localhost:8080/"
        },
        "id": "f66x_11g5T7c",
        "outputId": "ffe1f22f-9869-4cbc-cd39-81a1466fc97c"
      },
      "execution_count": 65,
      "outputs": [
        {
          "output_type": "stream",
          "name": "stdout",
          "text": [
            "break: 깨다\n",
            "맞았습니다!\n",
            "word: 단어\n",
            "맞았습니다!\n",
            "apple: 바나나\n",
            "틀렸습니다. 정답은 사과 입니다\n",
            "banana: 바나나\n",
            "맞았습니다!\n",
            "grape: 사과\n",
            "틀렸습니다. 정답은 포도 입니다\n",
            "peach: 복숭아\n",
            "맞았습니다!\n"
          ]
        }
      ]
    },
    {
      "cell_type": "markdown",
      "source": [
        "지난 실습 과제에서 단어장 퀴즈 프로그램을 만들었는데요. 학생들이 문제의 순서가 매번 똑같아서 재미가 없다고 합니다.\n",
        "\n",
        "이번에는 random 모듈과 사전(dictionary)을 이용해서 vocabulary.txt의 단어들을 랜덤한 순서로 내도록 프로그램을 바꿔 보세요.\n",
        "\n",
        "같은 단어를 여러번 물어봐도 괜찮고, 프로그램은 사용자가 알파벳 q를 입력할 때까지 계속 실행됩니다."
      ],
      "metadata": {
        "id": "D07WzWcr9EhP"
      }
    },
    {
      "cell_type": "code",
      "source": [
        "import random\n",
        "\n",
        "n = random.randint(1,20)\n",
        "\n",
        "with open('vocabulary.txt','r') as voca:\n",
        "  for a in voca:\n",
        "    voca_list = a.strip().split(\": \")\n",
        "    ans = input(f\"{voca_list[0]}: \")\n",
        "    if ans == voca_list[1] :\n",
        "      print(\"맞았습니다!\")\n",
        "    else:\n",
        "      print(f\"틀렸습니다. 정답은 {voca_list[1]} 입니다\")\n"
      ],
      "metadata": {
        "id": "2ALC3qKN9Fs6"
      },
      "execution_count": null,
      "outputs": []
    }
  ]
}